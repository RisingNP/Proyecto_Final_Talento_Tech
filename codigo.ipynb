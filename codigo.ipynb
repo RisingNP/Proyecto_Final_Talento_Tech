{
  "cells": [
    {
      "cell_type": "markdown",
      "metadata": {},
      "source": [
        "# Limpieza de datos"
      ]
    },
    {
      "cell_type": "code",
      "execution_count": null,
      "metadata": {
        "colab": {
          "base_uri": "https://localhost:8080/"
        },
        "id": "6g_wBFHPF09g",
        "outputId": "c4795f7c-282f-452d-a8af-768fa26f2677"
      },
      "outputs": [
        {
          "name": "stdout",
          "output_type": "stream",
          "text": [
            "<class 'pandas.core.frame.DataFrame'>\n",
            "Index: 8635 entries, 0 to 8635\n",
            "Data columns (total 26 columns):\n",
            " #   Column                      Non-Null Count  Dtype         \n",
            "---  ------                      --------------  -----         \n",
            " 0   Fecha_notificación          8635 non-null   datetime64[ns]\n",
            " 1   Año                         8635 non-null   object        \n",
            " 2   Edad_paciente               8635 non-null   int64         \n",
            " 3   Nacionalidad                8635 non-null   object        \n",
            " 4   Sexo_paciente               8635 non-null   object        \n",
            " 5   Codigo Departamento         8635 non-null   object        \n",
            " 6   Código_Municipio            8635 non-null   int64         \n",
            " 7   Tipo Seguridad Social       8635 non-null   object        \n",
            " 8   Estrato_socioeconómico      8635 non-null   object        \n",
            " 9   Discapacidad                8635 non-null   object        \n",
            " 10  Desplazado                  8635 non-null   object        \n",
            " 11  Migrante                    8635 non-null   object        \n",
            " 12  En_situación_carcelaria     8635 non-null   object        \n",
            " 13  Gestante                    8635 non-null   object        \n",
            " 14  Pertenencia_indígena        8635 non-null   object        \n",
            " 15  Atendido_por_ICBF           8635 non-null   object        \n",
            " 16  Desmovilizado               8635 non-null   object        \n",
            " 17  Antecedentes_psiquiátricos  8635 non-null   object        \n",
            " 18  Víctima_de_violencia        8635 non-null   object        \n",
            " 19  Fecha_contagio              8635 non-null   datetime64[ns]\n",
            " 20  Hospitalizacion             8635 non-null   object        \n",
            " 21  Certificado_de_defunción    8635 non-null   object        \n",
            " 22  Evento_reportado            8635 non-null   object        \n",
            " 23  Unidad_generadora_datos     8635 non-null   object        \n",
            " 24  Mes_contagio                8635 non-null   float64       \n",
            " 25  Año_contagio                8635 non-null   object        \n",
            "dtypes: datetime64[ns](2), float64(1), int64(2), object(21)\n",
            "memory usage: 1.8+ MB\n",
            "None\n"
          ]
        }
      ],
      "source": [
        "import pandas as pd\n",
        "import numpy as np\n",
        "import matplotlib as plt\n",
        "import json\n",
        "Df = pd.read_csv(\"archivos/Casos_Epidemiol_gicos_20250205.csv\") #Leemos la base de datos\n",
        "\n",
        "## Convertir fechas a formato datetime\n",
        "\n",
        "Df['Fecha_notificación'] = pd.to_datetime(Df[\"Fecha_notificación\"], format='%m/%d/%Y %H:%M:%S %p')\n",
        "Df['Fecha_contagio'] = pd.to_datetime(Df[\"Fecha_contagio\"], format='%m/%d/%Y %H:%M:%S %p')\n",
        "\n",
        "# Eliminamos columnas no relevantes para el estudio\n",
        "\n",
        "Df.pop(\"Fecha_hospitalización\")\n",
        "Df.pop(\"Semana_epidemiológica\")\n",
        "Df.pop(\"Código_Nacionalidad\")\n",
        "Df.pop(\"Otros_grupos_riesgo\")\n",
        "\n",
        "# Podemos rellenar información nula en ciertos campos no numericos con N/A\n",
        "Df[\"Unidad_generadora_datos\"] = Df[\"Unidad_generadora_datos\"].fillna(\"N/A\")\n",
        "Df[\"Estrato_socioeconómico\"] = Df[\"Estrato_socioeconómico\"].fillna(\"N/A\")\n",
        "\n",
        "\n",
        "#Los años están escritos, como 2,024. vamos a eliminar dichas comas\n",
        "Df[\"Año\"] = Df[\"Año\"].astype(str).str.replace(\",\",\"\",regex=False)\n",
        "Df[\"Año_contagio\"] = Df[\"Año_contagio\"].astype(str).str.replace(\",\",\"\",regex=False)\n",
        "\n",
        "#Eliminamos la ultima fila que tiene unos datos nulos\n",
        "\n",
        "Df.dropna(inplace=True)\n",
        "print(Df.info())"
      ]
    },
    {
      "cell_type": "code",
      "execution_count": null,
      "metadata": {},
      "outputs": [],
      "source": [
        "### Vamos a cambiar el codigo de municipio por el nombre del municipio ###\n",
        "\n",
        "\n",
        "# 2. Formatear los códigos en el DataFrame original\n",
        "# ----------------------------\n",
        "# Aseguramos que ambos códigos sean strings con relleno de ceros:\n",
        "Df[\"Codigo Departamento\"] = Df[\"Codigo Departamento\"].astype(str).str.zfill(2)\n",
        "Df[\"Código_Municipio\"] = Df[\"Código_Municipio\"].astype(str).str.zfill(3)\n",
        "\n",
        "# Creamos una columna temporal que combine ambos códigos para formar la llave completa\n",
        "Df[\"full_code\"] = Df[\"Codigo Departamento\"].astype(str) + Df[\"Código_Municipio\"].astype(str)\n",
        "\n",
        "# ----------------------------\n",
        "# 3. Cargar el CSV de mapeo y crear diccionarios de mapeo\n",
        "# ----------------------------\n",
        "# Cargar el CSV de mapeo (ajusta la ruta y codificación si es necesario)\n",
        "map_df = pd.read_csv(\"archivos/municipios_tabla_completa.csv\", encoding=\"utf-8-sig\")\n",
        "\n",
        "# Diccionario para departamentos: {código de 2 dígitos: nombre departamento}\n",
        "dept_map = pd.Series(\n",
        "    map_df[\"Nombre Departamento\"].values,\n",
        "    index=map_df[\"Código Departamento\"].astype(str).str.zfill(2)\n",
        ").to_dict()\n",
        "\n",
        "# Diccionario para municipios: {código completo (2 dígitos + 3 dígitos): nombre municipio}\n",
        "mun_map = {}\n",
        "for _, row in map_df.iterrows():\n",
        "    dep_code = str(row[\"Código Departamento\"]).zfill(2)\n",
        "    mun_code = str(row[\"Código Municipio\"]).zfill(3)\n",
        "    full_key = dep_code + mun_code  # Ejemplo: \"05\" + \"001\" = \"05001\"\n",
        "    mun_map[full_key] = row[\"Nombre Municipio\"]\n",
        "\n",
        "# ----------------------------\n",
        "# 4. Reemplazar los valores en el DataFrame original usando los diccionarios\n",
        "# ----------------------------\n",
        "# Reemplazar el código de departamento por el nombre correspondiente\n",
        "Df[\"Codigo Departamento\"] = Df[\"Codigo Departamento\"].map(dept_map)\n",
        "# Reemplazar el código de municipio (usando la llave completa) por el nombre del municipio\n",
        "Df[\"Código_Municipio\"] = Df[\"full_code\"].map(mun_map)\n",
        "\n",
        "# ----------------------------\n",
        "# 5. Renombrar las columnas\n",
        "# ----------------------------\n",
        "Df.rename(columns={\"Codigo Departamento\": \"Departamento\", \"Código_Municipio\": \"Municipio\"}, inplace=True)\n",
        "\n",
        "# Eliminar la columna temporal ya que no es necesaria\n",
        "Df.drop(columns=[\"full_code\"], inplace=True)\n",
        "\n",
        "# Mostrar los primeros registros para verificar el resultado\n",
        "print(Df.head())"
      ]
    }
  ],
  "metadata": {
    "colab": {
      "provenance": []
    },
    "kernelspec": {
      "display_name": "base",
      "language": "python",
      "name": "python3"
    },
    "language_info": {
      "codemirror_mode": {
        "name": "ipython",
        "version": 3
      },
      "file_extension": ".py",
      "mimetype": "text/x-python",
      "name": "python",
      "nbconvert_exporter": "python",
      "pygments_lexer": "ipython3",
      "version": "3.12.9"
    }
  },
  "nbformat": 4,
  "nbformat_minor": 0
}
