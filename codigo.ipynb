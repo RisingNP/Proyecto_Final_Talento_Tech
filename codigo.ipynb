{
 "cells": [
  {
   "cell_type": "code",
   "execution_count": null,
   "metadata": {},
   "outputs": [
    {
     "name": "stdout",
     "output_type": "stream",
     "text": [
      "<class 'pandas.core.frame.DataFrame'>\n",
      "RangeIndex: 8636 entries, 0 to 8635\n",
      "Data columns (total 29 columns):\n",
      " #   Column                      Non-Null Count  Dtype         \n",
      "---  ------                      --------------  -----         \n",
      " 0   Fecha_notificación          8636 non-null   datetime64[ns]\n",
      " 1   Semana_epidemiológica       8636 non-null   int64         \n",
      " 2   Año                         8636 non-null   object        \n",
      " 3   Edad_paciente               8636 non-null   int64         \n",
      " 4   Código_Nacionalidad         8636 non-null   int64         \n",
      " 5   Nacionalidad                8636 non-null   object        \n",
      " 6   Sexo_paciente               8636 non-null   object        \n",
      " 7   Codigo Departamento         8636 non-null   object        \n",
      " 8   Código_Municipio            8636 non-null   int64         \n",
      " 9   Tipo Seguridad Social       8636 non-null   object        \n",
      " 10  Estrato_socioeconómico      8522 non-null   float64       \n",
      " 11  Discapacidad                8636 non-null   object        \n",
      " 12  Desplazado                  8636 non-null   object        \n",
      " 13  Migrante                    8636 non-null   object        \n",
      " 14  En_situación_carcelaria     8636 non-null   object        \n",
      " 15  Gestante                    8636 non-null   object        \n",
      " 16  Pertenencia_indígena        8636 non-null   object        \n",
      " 17  Atendido_por_ICBF           8636 non-null   object        \n",
      " 18  Desmovilizado               8636 non-null   object        \n",
      " 19  Antecedentes_psiquiátricos  8636 non-null   object        \n",
      " 20  Víctima_de_violencia        8636 non-null   object        \n",
      " 21  Otros_grupos_riesgo         8636 non-null   object        \n",
      " 22  Fecha_contagio              8635 non-null   datetime64[ns]\n",
      " 23  Hospitalizacion             8636 non-null   object        \n",
      " 24  Certificado_de_defunción    8636 non-null   object        \n",
      " 25  Evento_reportado            8636 non-null   object        \n",
      " 26  Unidad_generadora_datos     7015 non-null   object        \n",
      " 27  Mes_contagio                8635 non-null   float64       \n",
      " 28  Año_contagio                8635 non-null   object        \n",
      "dtypes: datetime64[ns](2), float64(2), int64(4), object(21)\n",
      "memory usage: 1.9+ MB\n"
     ]
    }
   ],
   "source": [
    "import pandas as pd\n",
    "import numpy as np\n",
    "import matplotlib as plt\n",
    "Df = pd.read_csv(\"archivos/Casos_Epidemiol_gicos_20250205.csv\") #Leemos el CSV\n",
    "\n",
    "## Convertir fechas a formato datetime \n",
    "\n",
    "Df['Fecha_notificación'] = pd.to_datetime(Df[\"Fecha_notificación\"], format='%m/%d/%Y %I:%M:%S %p')\n",
    "Df['Fecha_contagio'] = pd.to_datetime(Df[\"Fecha_contagio\"], format='%m/%d/%Y %I:%M:%S %p')\n",
    "\n",
    "# Fecha de hospitalización por el momento no es muy relevante, y tiene muchos valores nulos\n",
    "# por lo cual es mejor eliminar dicha columna\n",
    "Df.pop(\"Fecha_hospitalización\")\n",
    "\n",
    "# Imprimimos la información para saber en que campos hay información nula\n",
    "print(Df.info())"
   ]
  },
  {
   "cell_type": "code",
   "execution_count": null,
   "metadata": {},
   "outputs": [],
   "source": []
  }
 ],
 "metadata": {
  "kernelspec": {
   "display_name": "base",
   "language": "python",
   "name": "python3"
  },
  "language_info": {
   "codemirror_mode": {
    "name": "ipython",
    "version": 3
   },
   "file_extension": ".py",
   "mimetype": "text/x-python",
   "name": "python",
   "nbconvert_exporter": "python",
   "pygments_lexer": "ipython3",
   "version": "3.12.9"
  }
 },
 "nbformat": 4,
 "nbformat_minor": 2
}
